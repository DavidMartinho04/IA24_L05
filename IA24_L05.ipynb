{
  "nbformat": 4,
  "nbformat_minor": 0,
  "metadata": {
    "colab": {
      "provenance": []
    },
    "kernelspec": {
      "name": "python3",
      "display_name": "Python 3"
    },
    "language_info": {
      "name": "python"
    }
  },
  "cells": [
    {
      "cell_type": "markdown",
      "source": [
        "# Introdução\n",
        "\n",
        "O objetivo é programar todos os *jobs* de um projeto de forma a minimizar os atrasos, respeitando as restrições de precedência e a capacidade de recursos.\n",
        "\n",
        "O projeto envolve a definição de modos de execução para cada tarefa, levando em consideração diferentes durações e consumos de recursos, para encontrar uma solução de agendamento eficiente.\n",
        "\n",
        "## Constituição do Grupo:\n",
        "- David Martinho (25620);\n",
        "- Marcelo Ferreira (25986);\n",
        "- Nuno Oliveira (25987);\n",
        "\n"
      ],
      "metadata": {
        "id": "V_OeV5GxfV9N"
      }
    },
    {
      "cell_type": "markdown",
      "source": [
        "# Formulação do Objetivo\n",
        "\n",
        "O objetivo deste projeto é desenvolver um agente que seja capaz de otimizar o planeamento das tarefas, minimizando os atrasos, respeitando as restrições de precedência entre tarefas e as capacidades de recursos (renováveis e não renováveis).\n",
        "\n",
        "O agente irá considerar diferentes modos de execução para cada tarefa, ajustando as durações e os recursos utilizados conforme necessário.\n",
        "\n",
        "## Limitações\n",
        "- O número de recursos disponíveis é limitado, o que impõe uma restrição sobre a alocação de recursos em diferentes modos de execução.\n",
        "- O algoritmo de busca utilizado deve ser eficiente, considerando o espaço de solução potencialmente grande devido ao número de modos e sucessores.\n",
        "\n",
        "## Ações a realizar:\n",
        "- Implementação de heurísticas para otimizar a busca.\n",
        "- Avaliação de diferentes estados iniciais para testar a flexibilidade do agente.\n"
      ],
      "metadata": {
        "id": "DibtDSCrmd90"
      }
    },
    {
      "cell_type": "code",
      "source": [
        "# Install contraint lybrary\n",
        "!pip install python-constraint"
      ],
      "metadata": {
        "colab": {
          "base_uri": "https://localhost:8080/"
        },
        "collapsed": true,
        "id": "EB2XTtTYelGq",
        "outputId": "86bcc068-2b77-44a5-c4f8-a0d92c69b64a"
      },
      "execution_count": 1,
      "outputs": [
        {
          "output_type": "stream",
          "name": "stdout",
          "text": [
            "Collecting python-constraint\n",
            "  Downloading python-constraint-1.4.0.tar.bz2 (18 kB)\n",
            "  Preparing metadata (setup.py) ... \u001b[?25l\u001b[?25hdone\n",
            "Building wheels for collected packages: python-constraint\n",
            "  Building wheel for python-constraint (setup.py) ... \u001b[?25l\u001b[?25hdone\n",
            "  Created wheel for python-constraint: filename=python_constraint-1.4.0-py2.py3-none-any.whl size=24059 sha256=d09881564d38dee00bedf9333495f1db1b830c3a15170930591e3457feee00f3\n",
            "  Stored in directory: /root/.cache/pip/wheels/2e/f2/2b/cb08b5fe129e4f69b7033061f256e5c551b0aa1160c2872aee\n",
            "Successfully built python-constraint\n",
            "Installing collected packages: python-constraint\n",
            "Successfully installed python-constraint-1.4.0\n"
          ]
        }
      ]
    },
    {
      "cell_type": "code",
      "source": [
        "# Import contraint lybrary\n",
        "from constraint import *\n",
        "import matplotlib.pyplot as plt\n",
        "import matplotlib.ticker as ticker"
      ],
      "metadata": {
        "collapsed": true,
        "id": "nHRpki8yflnV"
      },
      "execution_count": 2,
      "outputs": []
    },
    {
      "cell_type": "markdown",
      "source": [
        "# Leitura e Parsing dos Dados\n",
        "\n",
        "A seguir, o código será responsável pela leitura dos dados do ficheiro carregado e pelo parsing, dividindo as informações em secções como **jobs**, **precedence**, **durations**, e **resources**.\n",
        "\n",
        "O código abaixo carrega e processa os dados a partir do ficheiro, preparando-os para uso posterior no planeamento das tarefas.\n"
      ],
      "metadata": {
        "id": "SsHbpJjSm2mg"
      }
    },
    {
      "cell_type": "code",
      "source": [
        "# Load files\n",
        "from google.colab import files\n",
        "\n",
        "uploaded = files.upload()\n",
        "\n",
        "for fn in uploaded.keys():\n",
        "  print('User uploaded file \"{name}\" with length {length} bytes'.format(\n",
        "      name=fn, length=len(uploaded[fn])))"
      ],
      "metadata": {
        "colab": {
          "base_uri": "https://localhost:8080/",
          "height": 90
        },
        "id": "-uXL3USyer-D",
        "outputId": "f4c28fe5-41c6-48c3-c64b-4be80d2e668a",
        "collapsed": true
      },
      "execution_count": 3,
      "outputs": [
        {
          "output_type": "display_data",
          "data": {
            "text/plain": [
              "<IPython.core.display.HTML object>"
            ],
            "text/html": [
              "\n",
              "     <input type=\"file\" id=\"files-61cd5fa4-860c-42a2-b23f-652f59ca6263\" name=\"files[]\" multiple disabled\n",
              "        style=\"border:none\" />\n",
              "     <output id=\"result-61cd5fa4-860c-42a2-b23f-652f59ca6263\">\n",
              "      Upload widget is only available when the cell has been executed in the\n",
              "      current browser session. Please rerun this cell to enable.\n",
              "      </output>\n",
              "      <script>// Copyright 2017 Google LLC\n",
              "//\n",
              "// Licensed under the Apache License, Version 2.0 (the \"License\");\n",
              "// you may not use this file except in compliance with the License.\n",
              "// You may obtain a copy of the License at\n",
              "//\n",
              "//      http://www.apache.org/licenses/LICENSE-2.0\n",
              "//\n",
              "// Unless required by applicable law or agreed to in writing, software\n",
              "// distributed under the License is distributed on an \"AS IS\" BASIS,\n",
              "// WITHOUT WARRANTIES OR CONDITIONS OF ANY KIND, either express or implied.\n",
              "// See the License for the specific language governing permissions and\n",
              "// limitations under the License.\n",
              "\n",
              "/**\n",
              " * @fileoverview Helpers for google.colab Python module.\n",
              " */\n",
              "(function(scope) {\n",
              "function span(text, styleAttributes = {}) {\n",
              "  const element = document.createElement('span');\n",
              "  element.textContent = text;\n",
              "  for (const key of Object.keys(styleAttributes)) {\n",
              "    element.style[key] = styleAttributes[key];\n",
              "  }\n",
              "  return element;\n",
              "}\n",
              "\n",
              "// Max number of bytes which will be uploaded at a time.\n",
              "const MAX_PAYLOAD_SIZE = 100 * 1024;\n",
              "\n",
              "function _uploadFiles(inputId, outputId) {\n",
              "  const steps = uploadFilesStep(inputId, outputId);\n",
              "  const outputElement = document.getElementById(outputId);\n",
              "  // Cache steps on the outputElement to make it available for the next call\n",
              "  // to uploadFilesContinue from Python.\n",
              "  outputElement.steps = steps;\n",
              "\n",
              "  return _uploadFilesContinue(outputId);\n",
              "}\n",
              "\n",
              "// This is roughly an async generator (not supported in the browser yet),\n",
              "// where there are multiple asynchronous steps and the Python side is going\n",
              "// to poll for completion of each step.\n",
              "// This uses a Promise to block the python side on completion of each step,\n",
              "// then passes the result of the previous step as the input to the next step.\n",
              "function _uploadFilesContinue(outputId) {\n",
              "  const outputElement = document.getElementById(outputId);\n",
              "  const steps = outputElement.steps;\n",
              "\n",
              "  const next = steps.next(outputElement.lastPromiseValue);\n",
              "  return Promise.resolve(next.value.promise).then((value) => {\n",
              "    // Cache the last promise value to make it available to the next\n",
              "    // step of the generator.\n",
              "    outputElement.lastPromiseValue = value;\n",
              "    return next.value.response;\n",
              "  });\n",
              "}\n",
              "\n",
              "/**\n",
              " * Generator function which is called between each async step of the upload\n",
              " * process.\n",
              " * @param {string} inputId Element ID of the input file picker element.\n",
              " * @param {string} outputId Element ID of the output display.\n",
              " * @return {!Iterable<!Object>} Iterable of next steps.\n",
              " */\n",
              "function* uploadFilesStep(inputId, outputId) {\n",
              "  const inputElement = document.getElementById(inputId);\n",
              "  inputElement.disabled = false;\n",
              "\n",
              "  const outputElement = document.getElementById(outputId);\n",
              "  outputElement.innerHTML = '';\n",
              "\n",
              "  const pickedPromise = new Promise((resolve) => {\n",
              "    inputElement.addEventListener('change', (e) => {\n",
              "      resolve(e.target.files);\n",
              "    });\n",
              "  });\n",
              "\n",
              "  const cancel = document.createElement('button');\n",
              "  inputElement.parentElement.appendChild(cancel);\n",
              "  cancel.textContent = 'Cancel upload';\n",
              "  const cancelPromise = new Promise((resolve) => {\n",
              "    cancel.onclick = () => {\n",
              "      resolve(null);\n",
              "    };\n",
              "  });\n",
              "\n",
              "  // Wait for the user to pick the files.\n",
              "  const files = yield {\n",
              "    promise: Promise.race([pickedPromise, cancelPromise]),\n",
              "    response: {\n",
              "      action: 'starting',\n",
              "    }\n",
              "  };\n",
              "\n",
              "  cancel.remove();\n",
              "\n",
              "  // Disable the input element since further picks are not allowed.\n",
              "  inputElement.disabled = true;\n",
              "\n",
              "  if (!files) {\n",
              "    return {\n",
              "      response: {\n",
              "        action: 'complete',\n",
              "      }\n",
              "    };\n",
              "  }\n",
              "\n",
              "  for (const file of files) {\n",
              "    const li = document.createElement('li');\n",
              "    li.append(span(file.name, {fontWeight: 'bold'}));\n",
              "    li.append(span(\n",
              "        `(${file.type || 'n/a'}) - ${file.size} bytes, ` +\n",
              "        `last modified: ${\n",
              "            file.lastModifiedDate ? file.lastModifiedDate.toLocaleDateString() :\n",
              "                                    'n/a'} - `));\n",
              "    const percent = span('0% done');\n",
              "    li.appendChild(percent);\n",
              "\n",
              "    outputElement.appendChild(li);\n",
              "\n",
              "    const fileDataPromise = new Promise((resolve) => {\n",
              "      const reader = new FileReader();\n",
              "      reader.onload = (e) => {\n",
              "        resolve(e.target.result);\n",
              "      };\n",
              "      reader.readAsArrayBuffer(file);\n",
              "    });\n",
              "    // Wait for the data to be ready.\n",
              "    let fileData = yield {\n",
              "      promise: fileDataPromise,\n",
              "      response: {\n",
              "        action: 'continue',\n",
              "      }\n",
              "    };\n",
              "\n",
              "    // Use a chunked sending to avoid message size limits. See b/62115660.\n",
              "    let position = 0;\n",
              "    do {\n",
              "      const length = Math.min(fileData.byteLength - position, MAX_PAYLOAD_SIZE);\n",
              "      const chunk = new Uint8Array(fileData, position, length);\n",
              "      position += length;\n",
              "\n",
              "      const base64 = btoa(String.fromCharCode.apply(null, chunk));\n",
              "      yield {\n",
              "        response: {\n",
              "          action: 'append',\n",
              "          file: file.name,\n",
              "          data: base64,\n",
              "        },\n",
              "      };\n",
              "\n",
              "      let percentDone = fileData.byteLength === 0 ?\n",
              "          100 :\n",
              "          Math.round((position / fileData.byteLength) * 100);\n",
              "      percent.textContent = `${percentDone}% done`;\n",
              "\n",
              "    } while (position < fileData.byteLength);\n",
              "  }\n",
              "\n",
              "  // All done.\n",
              "  yield {\n",
              "    response: {\n",
              "      action: 'complete',\n",
              "    }\n",
              "  };\n",
              "}\n",
              "\n",
              "scope.google = scope.google || {};\n",
              "scope.google.colab = scope.google.colab || {};\n",
              "scope.google.colab._files = {\n",
              "  _uploadFiles,\n",
              "  _uploadFilesContinue,\n",
              "};\n",
              "})(self);\n",
              "</script> "
            ]
          },
          "metadata": {}
        },
        {
          "output_type": "stream",
          "name": "stdout",
          "text": [
            "Saving file.txt to file.txt\n",
            "User uploaded file \"file.txt\" with length 1869 bytes\n"
          ]
        }
      ]
    },
    {
      "cell_type": "code",
      "source": [
        "def parse_file(file_path):\n",
        "    data = {\n",
        "        'general_info': {},\n",
        "        'projects_summary': {},\n",
        "        'precedence_relations': {},\n",
        "        'duration_and_resources': {},\n",
        "        'resource_availability': {}\n",
        "    }\n",
        "    current_section = None  # Para acompanhar a secção atual\n",
        "\n",
        "    with open(file_path, 'r') as file:\n",
        "        for line in file:\n",
        "            line = line.strip()  # Remove espaços em branco no início e fim\n",
        "\n",
        "            # Ignorar linhas de cabeçalho ou linhas sem conteúdo\n",
        "            if line.startswith(\"************************************************************************\") or not line:\n",
        "                continue\n",
        "\n",
        "            # Verificar mudanças de secção\n",
        "            if line.startswith(\"#General Information\"):\n",
        "                current_section = 'general_info'\n",
        "                continue\n",
        "            elif line.startswith(\"#Projects summary\"):\n",
        "                current_section = 'projects_summary'\n",
        "                continue\n",
        "            elif line.startswith(\"#Precedence relations\"):\n",
        "                current_section = 'precedence_relations'\n",
        "                continue\n",
        "            elif line.startswith(\"#Duration and resources\"):\n",
        "                current_section = 'duration_and_resources'\n",
        "                continue\n",
        "            elif line.startswith(\"#Resource availability\"):\n",
        "                current_section = 'resource_availability'\n",
        "                continue\n",
        "\n",
        "            # Parsing baseado na secção atual\n",
        "            if current_section == 'general_info':\n",
        "                if \":\" in line:\n",
        "                    key, value = map(str.strip, line.split(\":\"))\n",
        "                    data['general_info'][key] = int(value) if value.isdigit() else value\n",
        "\n",
        "            elif current_section == 'projects_summary':\n",
        "                if not line.startswith(\"pronr.\"):\n",
        "                    parts = line.split()\n",
        "                    project_id = int(parts[0])\n",
        "                    data['projects_summary'][project_id] = {\n",
        "                        'jobs': int(parts[1]),\n",
        "                        'rel_date': int(parts[2]),\n",
        "                        'due_date': int(parts[3]),\n",
        "                        'tard_cost': int(parts[4]),\n",
        "                        'mpm_time': int(parts[5])\n",
        "                    }\n",
        "\n",
        "            elif current_section == 'precedence_relations':\n",
        "                if not line.startswith(\"#jobnr.\"):\n",
        "                    parts = line.split()\n",
        "                    job_id = int(parts[0])\n",
        "                    successors = list(map(int, parts[3:]))\n",
        "                    data['precedence_relations'][job_id] = {\n",
        "                        'modes': int(parts[1]),\n",
        "                        'successors': successors\n",
        "                    }\n",
        "\n",
        "            elif current_section == 'duration_and_resources':\n",
        "                if not line.startswith(\"#jobnr.\"):\n",
        "                    parts = line.split()\n",
        "                    job_id = int(parts[0])\n",
        "                    mode = int(parts[1])\n",
        "                    duration = int(parts[2])\n",
        "                    resources = list(map(int, parts[3:]))\n",
        "                    data['duration_and_resources'][job_id] = {\n",
        "                        'mode': mode,\n",
        "                        'duration': duration,\n",
        "                        'resources': resources\n",
        "                    }\n",
        "\n",
        "            elif current_section == 'resource_availability':\n",
        "                if not line.startswith(\"#resource\"):\n",
        "                    parts = line.split()\n",
        "                    resource = parts[0]\n",
        "                    quantity = int(parts[1])\n",
        "                    data['resource_availability'][resource] = quantity\n",
        "\n",
        "    return data"
      ],
      "metadata": {
        "id": "TQhxVpLLhTZR"
      },
      "execution_count": 17,
      "outputs": []
    },
    {
      "cell_type": "code",
      "source": [
        "data = parse_file(\"file.txt\")\n",
        "print(data)"
      ],
      "metadata": {
        "colab": {
          "base_uri": "https://localhost:8080/"
        },
        "collapsed": true,
        "id": "1bgyX75ahb3O",
        "outputId": "66247729-30be-4439-9102-10e3ff741bd4"
      },
      "execution_count": 18,
      "outputs": [
        {
          "output_type": "stream",
          "name": "stdout",
          "text": [
            "{'general_info': {'projects': 1, 'jobs (incl. supersource/sink )': 12, 'horizon': 46, '- renewable': '2   R', '- nonrenewable': '0   N', '- doubly constrained': '0   D'}, 'projects_summary': {1: {'jobs': 10, 'rel_date': 0, 'due_date': 22, 'tard_cost': 3, 'mpm_time': 22}}, 'precedence_relations': {1: {'modes': 1, 'successors': [2, 3, 4]}, 2: {'modes': 3, 'successors': [5, 6]}, 3: {'modes': 3, 'successors': [10, 11]}, 4: {'modes': 3, 'successors': [9]}, 5: {'modes': 3, 'successors': [7, 8]}, 6: {'modes': 3, 'successors': [10, 11]}, 7: {'modes': 3, 'successors': [9, 10]}, 8: {'modes': 3, 'successors': [9]}, 9: {'modes': 3, 'successors': [12]}, 10: {'modes': 3, 'successors': [12]}, 11: {'modes': 3, 'successors': [12]}, 12: {'modes': 1, 'successors': []}}, 'duration_and_resources': {1: {'mode': 1, 'duration': 0, 'resources': [0, 0]}, 2: {'mode': 1, 'duration': 3, 'resources': [6, 2]}, 3: {'mode': 1, 'duration': 1, 'resources': [0, 0]}, 4: {'mode': 1, 'duration': 8, 'resources': [4, 0]}, 5: {'mode': 1, 'duration': 4, 'resources': [0, 4]}, 6: {'mode': 1, 'duration': 4, 'resources': [0, 4]}, 7: {'mode': 1, 'duration': 6, 'resources': [2, 0]}, 8: {'mode': 1, 'duration': 4, 'resources': [4, 2]}, 9: {'mode': 1, 'duration': 5, 'resources': [3, 0]}, 10: {'mode': 1, 'duration': 7, 'resources': [2, 1]}, 11: {'mode': 1, 'duration': 4, 'resources': [0, 3]}, 12: {'mode': 1, 'duration': 0, 'resources': [0, 0]}}, 'resource_availability': {'R1': 6, 'R2': 4}}\n"
          ]
        }
      ]
    },
    {
      "cell_type": "markdown",
      "source": [
        "## Implementação do Dicionário e *Lists*\n",
        "Este código é responsável por criar e preencher os dicionários e listas que estruturam as tarefas do problema. Os dados são extraídos do **ficheiro**, e as informações incluem:\n",
        "\n",
        "- **Lista de tarefas**: Nome de cada tarefa (exemplo: `Job1`, `Job2`, etc.).\n",
        "- **Dicionário de tarefas (`successor_dict`)**:\n",
        "  - Sucessores de cada tarefa (dependências).\n",
        "  - Duração da tarefa.\n",
        "  - Recursos consumidos pela tarefa.\n",
        "\n",
        "### Estrutura de Dados\n",
        "- **Lista `job_list`**:\n",
        "  - Contém o nome de todas as tarefas em formato legível (exemplo: `Job1`).\n",
        "- **Dicionário `successor_dict`**:\n",
        "  - **Chaves**: Nome da tarefa (exemplo: `Job1`).\n",
        "  - **Valores**: Um dicionário com as seguintes informações:\n",
        "    - `successors`: Lista de tarefas sucessoras.\n",
        "    - `duration`: Duração da tarefa.\n",
        "    - `resources`: Recursos consumidos por essa tarefa.\n",
        "\n",
        "### Lógica\n",
        "1. Itera sobre os dados de relações de precedência (`data['precedence_relations']`).\n",
        "2. Para cada tarefa:\n",
        "   - Gera o nome (`Job1`, `Job2`, etc.).\n",
        "   - Extrai a duração e os recursos consumidos da tarefa.\n",
        "   - Preenche o dicionário `successor_dict` com essas informações.\n",
        "3. Adiciona os sucessores da tarefa ao dicionário, verificando repetições."
      ],
      "metadata": {
        "id": "2McbyA6zrKH3"
      }
    },
    {
      "cell_type": "code",
      "source": [
        "# Iniciar dicionário e listas\n",
        "job_list = []  # Lista de todas as tarefas\n",
        "successor_dict = {}  # Dicionário que mapeia cada tarefa para os sucessores, duração e recursos\n",
        "\n",
        "# Preencher os dicionários a partir dos dados fornecidos\n",
        "for job_id, job_data in data['precedence_relations'].items():\n",
        "    job_name = f'Job{job_id}'  # Nome da tarefa (exemplo: Job1)\n",
        "    job_list.append(job_name)  # Adiciona a tarefa à lista\n",
        "\n",
        "    # Extrai a duração e os recursos das tarefas\n",
        "    duration = data['duration_and_resources'][job_id]['duration']\n",
        "    resources = data['duration_and_resources'][job_id]['resources']\n",
        "\n",
        "    # Preenche o dicionário das tarefas\n",
        "    if job_name not in successor_dict:\n",
        "        successor_dict[job_name] = {\n",
        "            \"successors\": [],\n",
        "            \"duration\": duration,\n",
        "            \"resources\": resources\n",
        "        }\n",
        "\n",
        "    # Adiciona os sucessores da tarefa\n",
        "    for successor in job_data['successors']:\n",
        "        successor_name = f'Job{successor}'\n",
        "        if successor_name not in successor_dict[job_name][\"successors\"]:\n",
        "            successor_dict[job_name][\"successors\"].append(successor_name)\n",
        "            print(successor_dict)"
      ],
      "metadata": {
        "collapsed": true,
        "id": "n8g9w2u8yQkc",
        "colab": {
          "base_uri": "https://localhost:8080/"
        },
        "outputId": "4b19c23b-9c57-4aeb-d099-b650e1f948ba"
      },
      "execution_count": 19,
      "outputs": [
        {
          "output_type": "stream",
          "name": "stdout",
          "text": [
            "{'Job1': {'successors': ['Job2'], 'duration': 0, 'resources': [0, 0]}}\n",
            "{'Job1': {'successors': ['Job2', 'Job3'], 'duration': 0, 'resources': [0, 0]}}\n",
            "{'Job1': {'successors': ['Job2', 'Job3', 'Job4'], 'duration': 0, 'resources': [0, 0]}}\n",
            "{'Job1': {'successors': ['Job2', 'Job3', 'Job4'], 'duration': 0, 'resources': [0, 0]}, 'Job2': {'successors': ['Job5'], 'duration': 3, 'resources': [6, 2]}}\n",
            "{'Job1': {'successors': ['Job2', 'Job3', 'Job4'], 'duration': 0, 'resources': [0, 0]}, 'Job2': {'successors': ['Job5', 'Job6'], 'duration': 3, 'resources': [6, 2]}}\n",
            "{'Job1': {'successors': ['Job2', 'Job3', 'Job4'], 'duration': 0, 'resources': [0, 0]}, 'Job2': {'successors': ['Job5', 'Job6'], 'duration': 3, 'resources': [6, 2]}, 'Job3': {'successors': ['Job10'], 'duration': 1, 'resources': [0, 0]}}\n",
            "{'Job1': {'successors': ['Job2', 'Job3', 'Job4'], 'duration': 0, 'resources': [0, 0]}, 'Job2': {'successors': ['Job5', 'Job6'], 'duration': 3, 'resources': [6, 2]}, 'Job3': {'successors': ['Job10', 'Job11'], 'duration': 1, 'resources': [0, 0]}}\n",
            "{'Job1': {'successors': ['Job2', 'Job3', 'Job4'], 'duration': 0, 'resources': [0, 0]}, 'Job2': {'successors': ['Job5', 'Job6'], 'duration': 3, 'resources': [6, 2]}, 'Job3': {'successors': ['Job10', 'Job11'], 'duration': 1, 'resources': [0, 0]}, 'Job4': {'successors': ['Job9'], 'duration': 8, 'resources': [4, 0]}}\n",
            "{'Job1': {'successors': ['Job2', 'Job3', 'Job4'], 'duration': 0, 'resources': [0, 0]}, 'Job2': {'successors': ['Job5', 'Job6'], 'duration': 3, 'resources': [6, 2]}, 'Job3': {'successors': ['Job10', 'Job11'], 'duration': 1, 'resources': [0, 0]}, 'Job4': {'successors': ['Job9'], 'duration': 8, 'resources': [4, 0]}, 'Job5': {'successors': ['Job7'], 'duration': 4, 'resources': [0, 4]}}\n",
            "{'Job1': {'successors': ['Job2', 'Job3', 'Job4'], 'duration': 0, 'resources': [0, 0]}, 'Job2': {'successors': ['Job5', 'Job6'], 'duration': 3, 'resources': [6, 2]}, 'Job3': {'successors': ['Job10', 'Job11'], 'duration': 1, 'resources': [0, 0]}, 'Job4': {'successors': ['Job9'], 'duration': 8, 'resources': [4, 0]}, 'Job5': {'successors': ['Job7', 'Job8'], 'duration': 4, 'resources': [0, 4]}}\n",
            "{'Job1': {'successors': ['Job2', 'Job3', 'Job4'], 'duration': 0, 'resources': [0, 0]}, 'Job2': {'successors': ['Job5', 'Job6'], 'duration': 3, 'resources': [6, 2]}, 'Job3': {'successors': ['Job10', 'Job11'], 'duration': 1, 'resources': [0, 0]}, 'Job4': {'successors': ['Job9'], 'duration': 8, 'resources': [4, 0]}, 'Job5': {'successors': ['Job7', 'Job8'], 'duration': 4, 'resources': [0, 4]}, 'Job6': {'successors': ['Job10'], 'duration': 4, 'resources': [0, 4]}}\n",
            "{'Job1': {'successors': ['Job2', 'Job3', 'Job4'], 'duration': 0, 'resources': [0, 0]}, 'Job2': {'successors': ['Job5', 'Job6'], 'duration': 3, 'resources': [6, 2]}, 'Job3': {'successors': ['Job10', 'Job11'], 'duration': 1, 'resources': [0, 0]}, 'Job4': {'successors': ['Job9'], 'duration': 8, 'resources': [4, 0]}, 'Job5': {'successors': ['Job7', 'Job8'], 'duration': 4, 'resources': [0, 4]}, 'Job6': {'successors': ['Job10', 'Job11'], 'duration': 4, 'resources': [0, 4]}}\n",
            "{'Job1': {'successors': ['Job2', 'Job3', 'Job4'], 'duration': 0, 'resources': [0, 0]}, 'Job2': {'successors': ['Job5', 'Job6'], 'duration': 3, 'resources': [6, 2]}, 'Job3': {'successors': ['Job10', 'Job11'], 'duration': 1, 'resources': [0, 0]}, 'Job4': {'successors': ['Job9'], 'duration': 8, 'resources': [4, 0]}, 'Job5': {'successors': ['Job7', 'Job8'], 'duration': 4, 'resources': [0, 4]}, 'Job6': {'successors': ['Job10', 'Job11'], 'duration': 4, 'resources': [0, 4]}, 'Job7': {'successors': ['Job9'], 'duration': 6, 'resources': [2, 0]}}\n",
            "{'Job1': {'successors': ['Job2', 'Job3', 'Job4'], 'duration': 0, 'resources': [0, 0]}, 'Job2': {'successors': ['Job5', 'Job6'], 'duration': 3, 'resources': [6, 2]}, 'Job3': {'successors': ['Job10', 'Job11'], 'duration': 1, 'resources': [0, 0]}, 'Job4': {'successors': ['Job9'], 'duration': 8, 'resources': [4, 0]}, 'Job5': {'successors': ['Job7', 'Job8'], 'duration': 4, 'resources': [0, 4]}, 'Job6': {'successors': ['Job10', 'Job11'], 'duration': 4, 'resources': [0, 4]}, 'Job7': {'successors': ['Job9', 'Job10'], 'duration': 6, 'resources': [2, 0]}}\n",
            "{'Job1': {'successors': ['Job2', 'Job3', 'Job4'], 'duration': 0, 'resources': [0, 0]}, 'Job2': {'successors': ['Job5', 'Job6'], 'duration': 3, 'resources': [6, 2]}, 'Job3': {'successors': ['Job10', 'Job11'], 'duration': 1, 'resources': [0, 0]}, 'Job4': {'successors': ['Job9'], 'duration': 8, 'resources': [4, 0]}, 'Job5': {'successors': ['Job7', 'Job8'], 'duration': 4, 'resources': [0, 4]}, 'Job6': {'successors': ['Job10', 'Job11'], 'duration': 4, 'resources': [0, 4]}, 'Job7': {'successors': ['Job9', 'Job10'], 'duration': 6, 'resources': [2, 0]}, 'Job8': {'successors': ['Job9'], 'duration': 4, 'resources': [4, 2]}}\n",
            "{'Job1': {'successors': ['Job2', 'Job3', 'Job4'], 'duration': 0, 'resources': [0, 0]}, 'Job2': {'successors': ['Job5', 'Job6'], 'duration': 3, 'resources': [6, 2]}, 'Job3': {'successors': ['Job10', 'Job11'], 'duration': 1, 'resources': [0, 0]}, 'Job4': {'successors': ['Job9'], 'duration': 8, 'resources': [4, 0]}, 'Job5': {'successors': ['Job7', 'Job8'], 'duration': 4, 'resources': [0, 4]}, 'Job6': {'successors': ['Job10', 'Job11'], 'duration': 4, 'resources': [0, 4]}, 'Job7': {'successors': ['Job9', 'Job10'], 'duration': 6, 'resources': [2, 0]}, 'Job8': {'successors': ['Job9'], 'duration': 4, 'resources': [4, 2]}, 'Job9': {'successors': ['Job12'], 'duration': 5, 'resources': [3, 0]}}\n",
            "{'Job1': {'successors': ['Job2', 'Job3', 'Job4'], 'duration': 0, 'resources': [0, 0]}, 'Job2': {'successors': ['Job5', 'Job6'], 'duration': 3, 'resources': [6, 2]}, 'Job3': {'successors': ['Job10', 'Job11'], 'duration': 1, 'resources': [0, 0]}, 'Job4': {'successors': ['Job9'], 'duration': 8, 'resources': [4, 0]}, 'Job5': {'successors': ['Job7', 'Job8'], 'duration': 4, 'resources': [0, 4]}, 'Job6': {'successors': ['Job10', 'Job11'], 'duration': 4, 'resources': [0, 4]}, 'Job7': {'successors': ['Job9', 'Job10'], 'duration': 6, 'resources': [2, 0]}, 'Job8': {'successors': ['Job9'], 'duration': 4, 'resources': [4, 2]}, 'Job9': {'successors': ['Job12'], 'duration': 5, 'resources': [3, 0]}, 'Job10': {'successors': ['Job12'], 'duration': 7, 'resources': [2, 1]}}\n",
            "{'Job1': {'successors': ['Job2', 'Job3', 'Job4'], 'duration': 0, 'resources': [0, 0]}, 'Job2': {'successors': ['Job5', 'Job6'], 'duration': 3, 'resources': [6, 2]}, 'Job3': {'successors': ['Job10', 'Job11'], 'duration': 1, 'resources': [0, 0]}, 'Job4': {'successors': ['Job9'], 'duration': 8, 'resources': [4, 0]}, 'Job5': {'successors': ['Job7', 'Job8'], 'duration': 4, 'resources': [0, 4]}, 'Job6': {'successors': ['Job10', 'Job11'], 'duration': 4, 'resources': [0, 4]}, 'Job7': {'successors': ['Job9', 'Job10'], 'duration': 6, 'resources': [2, 0]}, 'Job8': {'successors': ['Job9'], 'duration': 4, 'resources': [4, 2]}, 'Job9': {'successors': ['Job12'], 'duration': 5, 'resources': [3, 0]}, 'Job10': {'successors': ['Job12'], 'duration': 7, 'resources': [2, 1]}, 'Job11': {'successors': ['Job12'], 'duration': 4, 'resources': [0, 3]}}\n"
          ]
        }
      ]
    },
    {
      "cell_type": "markdown",
      "source": [
        "## Problema e Definição de Variáveis\n",
        "\n",
        "Este código configura o problema de planeamento e define as **variáveis de decisão** com os respetivos **domínios**.\n",
        "\n",
        "Cada variável representa o **início da execução de uma tarefa** dentro do horizonte de tempo disponível.\n",
        "\n",
        "### Componentes do Código\n",
        "\n",
        "1. **Inicio do Problema**\n",
        "   - Utiliza a biblioteca `python-constraint` para criar um objeto `Problem`.\n",
        "   - Esse objeto será utilizado para modelar as **restrições** e encontrar uma **solução viável** para o problema.\n",
        "\n",
        "2. **Definição do Horizonte de Tempo**\n",
        "   - Define o domínio das variáveis como uma lista de valores inteiros representando os **instantes de tempo possíveis**:\n",
        "     ```python\n",
        "     time_slots = list(range(47))  # De 0 a 46\n",
        "     ```\n",
        "\n",
        "3. **Adição de Variáveis**\n",
        "   - Para cada tarefa no dicionário `successor_dict`, é criada uma variável no problema:\n",
        "     - **Nome da variável**: Nome da tarefa (exemplo: `Job1`, `Job2`).\n",
        "     - **Domínio da variável**: Intervalo de tempo `time_slots` onde a tarefa pode ser iniciada.\n",
        "   - Um `print` exibe o domínio de cada tarefa para facilitar a validação.\n",
        "\n",
        "### Exemplo de Estrutura Final\n",
        "As variáveis no objeto `ctt_problem` estão configuradas como:\n",
        "\n",
        "| Variável (Tarefa) | Domínio (Instantes de Tempo) |\n",
        "|--------------------|------------------------------|\n",
        "| `Job1`            | [0, 1, 2, ..., 46]          |\n",
        "| `Job2`            | [0, 1, 2, ..., 46]          |\n",
        "| `Job3`            | [0, 1, 2, ..., 46]          |\n",
        "| ...                | ...                          |\n",
        "\n",
        "\n",
        "\n"
      ],
      "metadata": {
        "id": "BDTAhjbFLjtR"
      }
    },
    {
      "cell_type": "code",
      "source": [
        "# Inicia o problema\n",
        "ctt_problem = Problem()\n",
        "\n",
        "# Define as variáveis e os domínios (horizonte de tempo disponível)\n",
        "time_slots = list(range(47))  # De 0 a 46\n",
        "for job_name in successor_dict.keys():\n",
        "    ctt_problem.addVariable(job_name, time_slots)\n",
        "    print(f'{job_name}: Domínio -> {time_slots}')"
      ],
      "metadata": {
        "collapsed": true,
        "id": "L6pr68_SarJU",
        "colab": {
          "base_uri": "https://localhost:8080/"
        },
        "outputId": "ad25fa1e-0781-4b58-e480-ca508672bc9d"
      },
      "execution_count": 20,
      "outputs": [
        {
          "output_type": "stream",
          "name": "stdout",
          "text": [
            "Job1: Domínio -> [0, 1, 2, 3, 4, 5, 6, 7, 8, 9, 10, 11, 12, 13, 14, 15, 16, 17, 18, 19, 20, 21, 22, 23, 24, 25, 26, 27, 28, 29, 30, 31, 32, 33, 34, 35, 36, 37, 38, 39, 40, 41, 42, 43, 44, 45, 46]\n",
            "Job2: Domínio -> [0, 1, 2, 3, 4, 5, 6, 7, 8, 9, 10, 11, 12, 13, 14, 15, 16, 17, 18, 19, 20, 21, 22, 23, 24, 25, 26, 27, 28, 29, 30, 31, 32, 33, 34, 35, 36, 37, 38, 39, 40, 41, 42, 43, 44, 45, 46]\n",
            "Job3: Domínio -> [0, 1, 2, 3, 4, 5, 6, 7, 8, 9, 10, 11, 12, 13, 14, 15, 16, 17, 18, 19, 20, 21, 22, 23, 24, 25, 26, 27, 28, 29, 30, 31, 32, 33, 34, 35, 36, 37, 38, 39, 40, 41, 42, 43, 44, 45, 46]\n",
            "Job4: Domínio -> [0, 1, 2, 3, 4, 5, 6, 7, 8, 9, 10, 11, 12, 13, 14, 15, 16, 17, 18, 19, 20, 21, 22, 23, 24, 25, 26, 27, 28, 29, 30, 31, 32, 33, 34, 35, 36, 37, 38, 39, 40, 41, 42, 43, 44, 45, 46]\n",
            "Job5: Domínio -> [0, 1, 2, 3, 4, 5, 6, 7, 8, 9, 10, 11, 12, 13, 14, 15, 16, 17, 18, 19, 20, 21, 22, 23, 24, 25, 26, 27, 28, 29, 30, 31, 32, 33, 34, 35, 36, 37, 38, 39, 40, 41, 42, 43, 44, 45, 46]\n",
            "Job6: Domínio -> [0, 1, 2, 3, 4, 5, 6, 7, 8, 9, 10, 11, 12, 13, 14, 15, 16, 17, 18, 19, 20, 21, 22, 23, 24, 25, 26, 27, 28, 29, 30, 31, 32, 33, 34, 35, 36, 37, 38, 39, 40, 41, 42, 43, 44, 45, 46]\n",
            "Job7: Domínio -> [0, 1, 2, 3, 4, 5, 6, 7, 8, 9, 10, 11, 12, 13, 14, 15, 16, 17, 18, 19, 20, 21, 22, 23, 24, 25, 26, 27, 28, 29, 30, 31, 32, 33, 34, 35, 36, 37, 38, 39, 40, 41, 42, 43, 44, 45, 46]\n",
            "Job8: Domínio -> [0, 1, 2, 3, 4, 5, 6, 7, 8, 9, 10, 11, 12, 13, 14, 15, 16, 17, 18, 19, 20, 21, 22, 23, 24, 25, 26, 27, 28, 29, 30, 31, 32, 33, 34, 35, 36, 37, 38, 39, 40, 41, 42, 43, 44, 45, 46]\n",
            "Job9: Domínio -> [0, 1, 2, 3, 4, 5, 6, 7, 8, 9, 10, 11, 12, 13, 14, 15, 16, 17, 18, 19, 20, 21, 22, 23, 24, 25, 26, 27, 28, 29, 30, 31, 32, 33, 34, 35, 36, 37, 38, 39, 40, 41, 42, 43, 44, 45, 46]\n",
            "Job10: Domínio -> [0, 1, 2, 3, 4, 5, 6, 7, 8, 9, 10, 11, 12, 13, 14, 15, 16, 17, 18, 19, 20, 21, 22, 23, 24, 25, 26, 27, 28, 29, 30, 31, 32, 33, 34, 35, 36, 37, 38, 39, 40, 41, 42, 43, 44, 45, 46]\n",
            "Job11: Domínio -> [0, 1, 2, 3, 4, 5, 6, 7, 8, 9, 10, 11, 12, 13, 14, 15, 16, 17, 18, 19, 20, 21, 22, 23, 24, 25, 26, 27, 28, 29, 30, 31, 32, 33, 34, 35, 36, 37, 38, 39, 40, 41, 42, 43, 44, 45, 46]\n",
            "Job12: Domínio -> [0, 1, 2, 3, 4, 5, 6, 7, 8, 9, 10, 11, 12, 13, 14, 15, 16, 17, 18, 19, 20, 21, 22, 23, 24, 25, 26, 27, 28, 29, 30, 31, 32, 33, 34, 35, 36, 37, 38, 39, 40, 41, 42, 43, 44, 45, 46]\n"
          ]
        }
      ]
    },
    {
      "cell_type": "markdown",
      "source": [
        "## Funções de Restrições\n",
        "\n",
        "Este bloco de código implementa as **funções de restrições** que serão utilizadas no problema.\n",
        "\n",
        "As restrições garantem que as soluções geradas pelo modelo respeitem as condições impostas pelo problema.\n",
        "\n",
        "### 1. Restrição de Precedência\n",
        "\n",
        "- **Objetivo**: Garantir que uma tarefa **não pode começar** antes que as tarefas predecessoras tenham sido concluídas.\n",
        "- **Entrada**:\n",
        "  - `predecessor`: Tarefa predecessora.\n",
        "  - `successor`: Tarefa sucessora.\n",
        "  - `details`: Detalhes da tarefa predecessora (inclui a duração).\n",
        "- **Saída**:\n",
        "  - Retorna uma função que verifica se o **início da tarefa sucessora** (`start_b`) ocorre **após o fim da predecessora** (`start_a + duration_a`).\n",
        "\n",
        "#### Implementação\n",
        "```python\n",
        "def precedence_constraint(predecessor, successor, details):\n",
        "    duration_a = details['duration']\n",
        "    return lambda start_a, start_b: start_b >= start_a + duration_a\n",
        "```\n",
        "### 2. Restrição de Recursos\n",
        "\n",
        "#### Objetivo\n",
        "Garantir que os **recursos disponíveis** não sejam excedidos em nenhum instante durante a execução das tarefas.\n",
        "\n",
        "---\n",
        "\n",
        "#### Entrada\n",
        "- `*task_start_times`: Lista com os tempos de início de cada tarefa.\n",
        "\n",
        "---\n",
        "\n",
        "#### Processo\n",
        "1. **Inicio**: Cria um dicionário `resource_usage` para guardar o uso acumulado de recursos em cada unidade de tempo do horizonte (47 períodos).\n",
        "\n",
        "2. **Cálculo do Uso de Recursos**:\n",
        "   - Para cada tarefa:\n",
        "     - Soma os recursos consumidos ao longo da duração no dicionário `resource_usage`.\n",
        "3. **Validação**:\n",
        "   - Verifica se, em algum instante, o uso de qualquer recurso ultrapassa a capacidade máxima definida em `data['resource_availability']`.\n",
        "\n",
        "---\n",
        "\n",
        "#### Saída\n",
        "- Retorna `True` se todos os recursos estiverem dentro dos limites em todos os instantes.\n",
        "- Retorna `False` se algum recurso ultrapassar a capacidade disponível.\n",
        "\n",
        "\n",
        "\n"
      ],
      "metadata": {
        "id": "wb3fp_miMJRo"
      }
    },
    {
      "cell_type": "code",
      "source": [
        "# Funções de restrições\n",
        "\n",
        "# Restrição de precedência\n",
        "def precedence_constraint(predecessor, successor, details):\n",
        "    duration_a = details['duration']\n",
        "    return lambda start_a, start_b: start_b >= start_a + duration_a\n",
        "\n",
        "# Restrição de recursos\n",
        "def resource_constraint(*task_start_times):\n",
        "    resource_usage = {t: [0] * len(data['resource_availability']) for t in range(47)}\n",
        "\n",
        "    # Soma os recursos utilizados em cada instante\n",
        "    for job_name, start_time in zip(successor_dict.keys(), task_start_times):\n",
        "        job_duration = successor_dict[job_name]['duration']\n",
        "        job_resources = successor_dict[job_name]['resources']\n",
        "\n",
        "        for t in range(start_time, start_time + job_duration):\n",
        "            for r_index, resource in enumerate(job_resources):\n",
        "                resource_usage[t][r_index] += resource\n",
        "\n",
        "    # Verifica se algum recurso excede a capacidade disponível\n",
        "    for t, usage in resource_usage.items():\n",
        "        for r_index, total_usage in enumerate(usage):\n",
        "            resource_name = list(data['resource_availability'].keys())[r_index]\n",
        "            if total_usage > data['resource_availability'][resource_name]:\n",
        "                return False\n",
        "    return True"
      ],
      "metadata": {
        "collapsed": true,
        "id": "tpvtE-CXLUqe"
      },
      "execution_count": 21,
      "outputs": []
    },
    {
      "cell_type": "markdown",
      "source": [
        "# Aplicação das Restrições\n",
        "\n",
        "### 3.1 Restrição de Precedência\n",
        "- **Objetivo**: Garantir que as tarefas sejam iniciadas após a conclusão das suas predecessoras, respeitando a duração definida.\n",
        "- **Processo**:\n",
        "  - Itera sobre todas as tarefas no `successor_dict`.\n",
        "  - Para cada tarefa predecessora, aplica a função `precedence_constraint` em conjunto com os sucessores.\n",
        "  - Adiciona a restrição ao problema usando o método `addConstraint`.\n",
        "\n",
        "---\n",
        "\n",
        "### 3.2 Restrição de Recursos\n",
        "- **Objetivo**: Garantir que o uso acumulado de recursos durante a execução das tarefas não ultrapassa a capacidade disponível.\n",
        "- **Processo**:\n",
        "  - Aplica a função `resource_constraint` para verificar o uso acumulado de recursos em cada unidade de tempo.\n",
        "  - Adiciona a restrição ao problema para todas as tarefas usando `successor_dict.keys()`.\n"
      ],
      "metadata": {
        "id": "ek4acEGnWjwd"
      }
    },
    {
      "cell_type": "code",
      "source": [
        "# Aplicar restrições de precedência\n",
        "for predecessor, details in successor_dict.items():\n",
        "    for successor in details['successors']:\n",
        "        ctt_problem.addConstraint(\n",
        "            precedence_constraint(predecessor, successor, details),\n",
        "            (predecessor, successor)\n",
        "        )\n",
        "\n",
        "# Aplicar restrição de recursos\n",
        "ctt_problem.addConstraint(resource_constraint, successor_dict.keys())"
      ],
      "metadata": {
        "id": "5Nex-bHWaGsU"
      },
      "execution_count": 22,
      "outputs": []
    },
    {
      "cell_type": "markdown",
      "source": [
        "# Função: plot_gantt_chart\n",
        "\n",
        "#### Descrição:\n",
        "Esta função cria um gráfico de Gantt para visualizar a solução ótima encontrada, representando as tarefas com as durações e tempos de início.\n",
        "\n",
        "---\n",
        "\n",
        "#### Parâmetros:\n",
        "- **solution (dict)**: Dicionário com as tarefas e tempos de início na solução.\n",
        "- **successor_dict (dict)**: Dicionário com as informações das tarefas, como duração e recursos.\n",
        "\n",
        "---\n",
        "\n",
        "#### Passos da Implementação:\n",
        "1. **Ordenar as tarefas**:\n",
        "   - As tarefas são ordenadas pela ordem de início na solução para facilitar a visualização.\n",
        "   \n",
        "2. **Configurar o gráfico**:\n",
        "   - Define o tamanho do gráfico com base no número de tarefas.\n",
        "   - Adiciona títulos e rótulos nos eixos.\n",
        "\n",
        "3. **Barras horizontais**:\n",
        "   - Cada tarefa é representada como uma barra horizontal.\n",
        "   - A barra começa no tempo de início (`start_time`) e a largura representa a duração da tarefa (`duration`).\n",
        "\n",
        "4. **Customizar os eixos**:\n",
        "   - Eixo Y:\n",
        "     - Mostra os nomes das tarefas.\n",
        "   - Eixo X:\n",
        "     - Mostra o tempo com linhas verticais em cada unidade.\n",
        "   - Grade (grid):\n",
        "     - Adiciona linhas verticais no eixo X para melhorar a legibilidade.\n",
        "\n",
        "5. **Mostrar o gráfico**:\n",
        "   - Ajusta o layout com `plt.tight_layout()` para evitar cortes.\n",
        "   - Mostra o gráfico com `plt.show()`."
      ],
      "metadata": {
        "id": "oZVLWcP1abQk"
      }
    },
    {
      "cell_type": "code",
      "source": [
        "def plot_gantt_chart(solution, successor_dict):\n",
        "    # Ordenar as tarefas pela ordem de início na solução\n",
        "    sorted_solution = sorted(solution.items(), key=lambda x: x[1])  # Ordena por início\n",
        "\n",
        "    # Configurar a figura do gráfico\n",
        "    fig, ax = plt.subplots(figsize=(12, len(sorted_solution) * 0.6))  # Tamanho ajustado para o número de tarefas\n",
        "    ax.set_title(\"Gráfico de Gantt\", fontsize=16)\n",
        "    ax.set_xlabel(\"Tempo\", fontsize=12)\n",
        "    ax.set_ylabel(\"Tarefas\", fontsize=12)\n",
        "\n",
        "    # Definir cada tarefa como uma barra horizontal\n",
        "    for job, start_time in sorted_solution:\n",
        "        duration = successor_dict[job]['duration']  # Duração da tarefa\n",
        "        end_time = start_time + duration  # Calcula o tempo final da tarefa\n",
        "\n",
        "        # Define a barra correspondente à tarefa\n",
        "        ax.barh(job, duration, left=start_time, color=\"skyblue\", edgecolor=\"black\", height=0.5)\n",
        "\n",
        "    # Customizar o eixo y\n",
        "    ax.set_yticks([job for job, _ in sorted_solution])\n",
        "    ax.set_yticklabels([job for job, _ in sorted_solution])\n",
        "\n",
        "    # Gridlines no eixo x para melhorar a legibilidade\n",
        "    ax.grid(True, axis='x', linestyle='solid', alpha=0.7)\n",
        "\n",
        "    # Configurar o eixo x com linhas verticais em cada unidade de tempo\n",
        "    ax.xaxis.set_major_locator(ticker.MultipleLocator(1))  # Linhas principais em cada unidade de tempo\n",
        "    ax.xaxis.set_minor_locator(ticker.MultipleLocator(0.5))  # Linhas menores para detalhes adicionais\n",
        "    ax.xaxis.set_major_formatter(ticker.FuncFormatter(lambda x, _: f'{int(x)}'))\n",
        "\n",
        "    # Ajustar o layout para evitar cortes\n",
        "    plt.tight_layout()\n",
        "    plt.show()"
      ],
      "metadata": {
        "id": "LISLDbvxaaI9"
      },
      "execution_count": 36,
      "outputs": []
    },
    {
      "cell_type": "markdown",
      "source": [
        "# Solução do Problema\n",
        "\n",
        "### Objetivo\n",
        "Encontrar uma solução válida que respeite todas as restrições de precedência e recursos aplicadas ao problema.\n",
        "\n",
        "---\n",
        "\n",
        "### Processos\n",
        "\n",
        "1. **Obter Solução**:\n",
        "   - Usa o método `getSolution()` da biblioteca `python-constraint` para resolver o problema com as restrições definidas.\n",
        "\n",
        "2. **Exibir a Solução**:\n",
        "   - Verifica se uma solução foi encontrada.\n",
        "   - Caso positivo:\n",
        "     - Ordena as tarefas pela ordem de início (`start_time`) para facilitar a visualização.\n",
        "     - Calcula e mostra o tempo de início e fim de cada tarefa.\n",
        "   - Caso contrário:\n",
        "     - Informa que nenhuma solução foi encontrada."
      ],
      "metadata": {
        "id": "ZLvGgNRIXHfl"
      }
    },
    {
      "cell_type": "code",
      "source": [
        "# Ajusta o início das tarefas para começar a partir de 0\n",
        "min_start_time = min(solution.values())  # Encontra o menor tempo de início\n",
        "adjusted_solution = {job: start_time - min_start_time for job, start_time in solution.items()}\n",
        "\n",
        "# Mostra a solução\n",
        "print(\"Solução Problema\")\n",
        "sorted_adjusted_solution = sorted(adjusted_solution.items(), key=lambda x: x[1])  # Ordena as tarefas por início\n",
        "for job, start_time in sorted_adjusted_solution:\n",
        "    end_time = start_time + successor_dict[job]['duration']\n",
        "    print(f'{job} - Início: {start_time}, Fim: {end_time}')\n",
        "\n",
        "# Define o gráfico de Gantt com a solução\n",
        "plot_gantt_chart(adjusted_solution, successor_dict)"
      ],
      "metadata": {
        "id": "pbXmVJgzaKAJ",
        "colab": {
          "base_uri": "https://localhost:8080/",
          "height": 952
        },
        "outputId": "afb2a390-c696-44e8-c16b-afb118f0cbfb"
      },
      "execution_count": 37,
      "outputs": [
        {
          "output_type": "stream",
          "name": "stdout",
          "text": [
            "Solução Problema\n",
            "Job2 - Início: 0, Fim: 3\n",
            "Job1 - Início: 0, Fim: 0\n",
            "Job5 - Início: 3, Fim: 7\n",
            "Job4 - Início: 3, Fim: 11\n",
            "Job7 - Início: 7, Fim: 13\n",
            "Job6 - Início: 7, Fim: 11\n",
            "Job8 - Início: 11, Fim: 15\n",
            "Job3 - Início: 12, Fim: 13\n",
            "Job10 - Início: 13, Fim: 20\n",
            "Job9 - Início: 15, Fim: 20\n",
            "Job11 - Início: 16, Fim: 20\n",
            "Job12 - Início: 20, Fim: 20\n"
          ]
        },
        {
          "output_type": "display_data",
          "data": {
            "text/plain": [
              "<Figure size 1200x720 with 1 Axes>"
            ],
            "image/png": "[encoded data removed]"
          },
          "metadata": {}
        }
      ]
    }
  ]
}